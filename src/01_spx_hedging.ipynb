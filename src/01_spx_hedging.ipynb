{
 "cells": [
  {
   "cell_type": "markdown",
   "metadata": {},
   "source": [
    "# Case Study: Hedging A Long-Only SPX Portfolio With Costless Collars    "
   ]
  },
  {
   "cell_type": "code",
   "execution_count": null,
   "metadata": {},
   "outputs": [],
   "source": [
    "import warnings\n",
    "from pathlib import Path\n",
    "\n",
    "import numpy as np\n",
    "import pandas as pd\n",
    "import plotly.io as pio\n",
    "\n",
    "import pull_options_data\n",
    "import spx_hedging_functions\n",
    "from settings import config\n",
    "\n",
    "pd.set_option(\"display.max_columns\", None)\n",
    "pio.templates.default = \"plotly_white\"\n",
    "\n",
    "\n",
    "warnings.filterwarnings(\"ignore\")\n"
   ]
  },
  {
   "cell_type": "code",
   "execution_count": null,
   "metadata": {},
   "outputs": [],
   "source": [
    "# Load environment variables\n",
    "DATA_DIR = Path(config(\"DATA_DIR\"))\n",
    "OUTPUT_DIR = Path(config(\"OUTPUT_DIR\"))\n",
    "WRDS_USERNAME = config(\"WRDS_USERNAME\")\n",
    "\n",
    "START_DATE = config(\"START_DATE\")\n",
    "END_DATE = config(\"END_DATE\")\n"
   ]
  },
  {
   "cell_type": "code",
   "execution_count": null,
   "metadata": {},
   "outputs": [],
   "source": [
    "asof_date = \"2023-08-02\"\n",
    "interpolation_args = {\"method\": \"cubic\", \"order\": 3}\n",
    "# enter the range of costless collar to construct\n",
    "d = 0.80\n",
    "contracts_to_display = 15\n",
    "r = 0.045\n",
    "N = 1000\n",
    "days_in_year = 365.0\n",
    "\n",
    "strike_range = (1000, 6000)\n",
    "expiry_range = (0.01, 2.0)\n",
    "\n",
    "dt = 1 / days_in_year\n",
    "\n",
    "option_chain = pull_options_data.load_spx_option_data(\n",
    "    asof_date=asof_date, start_date=START_DATE, end_date=END_DATE\n",
    ")\n",
    "# do we need to check if forward prices for calls and puts are the same? no, because the sql_query() function is pulling the forward price from a single other dataset and joining tables\n"
   ]
  },
  {
   "cell_type": "code",
   "execution_count": null,
   "metadata": {},
   "outputs": [],
   "source": [
    "# Build market predictions\n",
    "delta_map, prediction_range = spx_hedging_functions.build_market_predictions(\n",
    "    option_chain=option_chain,\n",
    "    asof_date=asof_date,\n",
    "    contracts_to_display=contracts_to_display,\n",
    "    interpolation_args=interpolation_args,\n",
    ")\n",
    "# Display prediction range table\n",
    "prediction_range_reformat = prediction_range.copy()\n",
    "prediction_range_reformat.index = prediction_range_reformat.index.strftime(\"%Y-%m-%d\")\n",
    "prediction_range_reformat.index.name = \"Expiration Date\"\n",
    "prediction_range_reformat = prediction_range_reformat.T\n",
    "prediction_range_reformat = prediction_range_reformat.iloc[:, :contracts_to_display]\n",
    "prediction_range_reformat = prediction_range_reformat.style.format(\"{:.2f}\")\n",
    "prediction_range_reformat"
   ]
  },
  {
   "cell_type": "code",
   "execution_count": null,
   "metadata": {},
   "outputs": [],
   "source": [
    "# Create pareto chart visualization\n",
    "pareto_data = spx_hedging_functions.build_pareto_chart(\n",
    "    ticker=\"SPX\",\n",
    "    asof_date=asof_date,\n",
    "    prediction_range=prediction_range,\n",
    "    delta_map=delta_map,\n",
    "    contracts_to_display=contracts_to_display,\n",
    ")\n",
    "\n",
    "# Display pareto chart\n",
    "pareto_data['figure'].show()"
   ]
  },
  {
   "cell_type": "code",
   "execution_count": null,
   "metadata": {},
   "outputs": [],
   "source": [
    "# Display prediction range table\n",
    "pareto_data['prediction_range'].style.format(\"{:.2f}\")"
   ]
  },
  {
   "cell_type": "code",
   "execution_count": null,
   "metadata": {},
   "outputs": [],
   "source": [
    "# Create delta heatmap visualization\n",
    "delta_heatmap = spx_hedging_functions.plot_delta_heatmap(\n",
    "    ticker=\"SPX\",\n",
    "    asof_date=asof_date,\n",
    "    delta_map=delta_map,\n",
    "    contracts_to_display=contracts_to_display,\n",
    "    heatmap_step=3,\n",
    ")"
   ]
  },
  {
   "cell_type": "code",
   "execution_count": null,
   "metadata": {},
   "outputs": [],
   "source": [
    "# get the forward prices\n",
    "fwd_prices = spx_hedging_functions.get_fwd_prices(asof_date, option_chain, contracts_to_display)\n",
    "iv_surface, price_surface = spx_hedging_functions.build_iv_and_price_surface(\n",
    "    option_chain,\n",
    "    fwd_prices,\n",
    "    asof_date,\n",
    "    strike_range,\n",
    "    expiry_range,\n",
    "    smoothing=True,\n",
    "    smoothing_params={\"sigma\": 2, \"clip_bounds\": (0.05, 0.75)},\n",
    ")"
   ]
  },
  {
   "cell_type": "code",
   "execution_count": null,
   "metadata": {},
   "outputs": [],
   "source": [
    "spx_hedging_functions.plot_vol_price_charts(\n",
    "    iv_surface=iv_surface,\n",
    "    price_surface=price_surface,\n",
    "    strike_range=[np.floor(iv_surface.index.min()), np.ceil(iv_surface.index.max())],\n",
    "    expiry_range=[iv_surface.columns.min(), iv_surface.columns.max()],\n",
    "    iv_surface_title=\"SPX Implied Volatility\",\n",
    "    price_surface_title=\"Price Surface as of \" + asof_date,\n",
    ")"
   ]
  },
  {
   "cell_type": "code",
   "execution_count": null,
   "metadata": {},
   "outputs": [],
   "source": [
    "default_percentiles = np.unique(\n",
    "    np.round(np.sort(np.append(np.arange(0.1, 1.0, 0.1), np.array([d, 1 - d]))), 3)\n",
    ")\n",
    "print(f\"Constructing a {d:.0%} / {(1 - d):.0%} collar...\")"
   ]
  },
  {
   "cell_type": "code",
   "execution_count": null,
   "metadata": {},
   "outputs": [],
   "source": [
    "# build the delta map\n",
    "delta_map = spx_hedging_functions.build_delta_map(\n",
    "    option_chain,\n",
    "    asof_date,\n",
    "    contracts_to_display,\n",
    "    show_detail=False,\n",
    "    weighted=False,\n",
    "    interpolate_missing=True,\n",
    "    interpolation_args=interpolation_args,\n",
    ")"
   ]
  },
  {
   "cell_type": "code",
   "execution_count": null,
   "metadata": {},
   "outputs": [],
   "source": [
    "# simulate a range of futures, including the collar strike %iles\n",
    "futures_data = spx_hedging_functions.simulate_futures(\n",
    "    asof_date, fwd_prices, iv_surface, r, N, dt, default_percentiles, random_seed=123\n",
    ")\n",
    "# Display simulation results\n",
    "futures_data['figure'].show()"
   ]
  },
  {
   "cell_type": "code",
   "execution_count": null,
   "metadata": {},
   "outputs": [],
   "source": [
    "futures_data['display_data'].T.style.format(\"{:.2f}\")"
   ]
  },
  {
   "cell_type": "code",
   "execution_count": null,
   "metadata": {},
   "outputs": [],
   "source": [
    "simulated_futures = futures_data['simulated_futures']\n",
    "delta_map.columns = spx_hedging_functions.dates_to_time_remaining(delta_map.columns, asof_date)\n",
    "delta_map = delta_map.loc[:, simulated_futures.index]\n",
    "\n",
    "# Build collar strikes data and visualization\n",
    "collar_data = spx_hedging_functions.build_collar_strikes(\n",
    "    d,\n",
    "    delta_map,\n",
    "    simulated_futures=simulated_futures,\n",
    "    contracts_to_display=contracts_to_display,\n",
    "    asof_date=asof_date,\n",
    "    option_chain=option_chain,\n",
    ")"
   ]
  },
  {
   "cell_type": "code",
   "execution_count": null,
   "metadata": {},
   "outputs": [],
   "source": [
    "# Display the figure\n",
    "collar_data['figure'].show()"
   ]
  },
  {
   "cell_type": "code",
   "execution_count": null,
   "metadata": {},
   "outputs": [],
   "source": [
    "# Display formatted collar strikes table\n",
    "display_collar_strikes = collar_data['collar_strikes'].copy()\n",
    "display_collar_strikes.index = display_collar_strikes.index.strftime(\"%Y-%m-%d\")\n",
    "display_collar_strikes.T.style.format(\"{:.2f}\")\n",
    "\n"
   ]
  },
  {
   "cell_type": "code",
   "execution_count": null,
   "metadata": {},
   "outputs": [],
   "source": [
    "# Display net cost\n",
    "print(f\"Net cost to hedge this set of collars: ${collar_data['net_cost']:.4f} per unit\")"
   ]
  },
  {
   "cell_type": "code",
   "execution_count": null,
   "metadata": {},
   "outputs": [],
   "source": []
  }
 ],
 "metadata": {
  "language_info": {
   "name": "python"
  }
 },
 "nbformat": 4,
 "nbformat_minor": 2
}
